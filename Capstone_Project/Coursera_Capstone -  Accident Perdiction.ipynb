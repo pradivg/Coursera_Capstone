{
 "cells": [
  {
   "cell_type": "markdown",
   "metadata": {},
   "source": [
    "# CAPSTONE - Accident Severity Prediction \n",
    "\n",
    "## Goal : To predict the severity of the accident.\n",
    "\n",
    "UK Road Safety: Traffic Accidents and Vehicles\n",
    "This notebook contains files produced for my IBM Coursera Data Science Capstone Project\n",
    "\n",
    "## Content\n",
    "\n",
    "Primarily Captures Road Accidents in UK between 1979 and 2015 and has 70 features/columns and about 250K rows.\n",
    "Dataset has been fetched from Oprn data and the files have been merged and cleaned to reach the final data attached.\n",
    "Along with it was an excel file with Multiple Tabs that can help one to understand the Data (which will be labelled clearly here for better understanding).\n",
    "\n",
    "## Acknowledgements and DataSource\n",
    "Data has been fetched from Open Data Platform UK and is being shared under Open Government Licence.\n",
    "For more details refer to Open Data UK\n",
    "\n",
    "The data set was uploaded to Kaggle under the profile.\n",
    "\n",
    "https://www.kaggle.com/akshay4/road-accidents-incidence![image.png](attachment:image.png)"
   ]
  },
  {
   "cell_type": "markdown",
   "metadata": {},
   "source": [
    "### Table of contents\n",
    "<li>1.Load the Data</li> </br>\n",
    "<ol>1.1 Import Libraries</ol></br>\n",
    "<ol>1.2 Load dataset</ol></br></li>\n",
    "</br>\n",
    "<li>2. Summarize the Dataset (DATA PREPARATION)</br>\n",
    "<ol>2.1  Dimension of the data</ol></br>\n",
    "<ol>2.2  Peak at the data</ol></br>\n",
    "<ol>2.3  Statistical summary</ol></li></br>\n",
    "</br>\n",
    "<li>3. Data Visualisation (MODELLING) </br>\n",
    "<ol>3.1  Multivariate Plots</ol></li></br>\n",
    "</br>\n",
    "<li>4. Evaluate some algorithmns (EVALUATION)</li>\n",
    "</br></br>\n",
    "<li>5. Making Predictions (DEPLOYMENT)</li></br>"
   ]
  },
  {
   "cell_type": "markdown",
   "metadata": {},
   "source": [
    "# DATA PREPARATION"
   ]
  },
  {
   "cell_type": "markdown",
   "metadata": {},
   "source": [
    "## Load the Data Set\n",
    "### 70 features/columns and about 250K rows."
   ]
  },
  {
   "cell_type": "code",
   "execution_count": 2,
   "metadata": {},
   "outputs": [],
   "source": [
    "# The dataset has been added to the env folder in the local disk which was downloaded from Kaggle dataset. "
   ]
  },
  {
   "cell_type": "markdown",
   "metadata": {},
   "source": [
    "## Importing Libraries"
   ]
  },
  {
   "cell_type": "code",
   "execution_count": 4,
   "metadata": {},
   "outputs": [
    {
     "name": "stderr",
     "output_type": "stream",
     "text": [
      "<frozen importlib._bootstrap>:219: RuntimeWarning: numpy.ufunc size changed, may indicate binary incompatibility. Expected 192 from C header, got 216 from PyObject\n"
     ]
    }
   ],
   "source": [
    "import time\n",
    "import pandas as pd\n",
    "import numpy as np\n",
    "\n",
    "import matplotlib.pyplot as plt\n",
    "plt.style.use(['dark_background'])\n",
    "import seaborn as sns\n",
    "plt.style.use(\"dark_background\")\n",
    "\n",
    "from sklearn.utils import resample\n",
    "from sklearn import preprocessing\n",
    "from sklearn.model_selection import train_test_split\n",
    "from sklearn.neighbors import KNeighborsClassifier\n",
    "from sklearn.tree import DecisionTreeClassifier\n",
    "from sklearn.linear_model import LogisticRegression\n",
    "from sklearn.metrics import confusion_matrix\n",
    "from sklearn.ensemble import RandomForestClassifier\n",
    "from sklearn.metrics import accuracy_score, log_loss, jaccard_score, classification_report\n",
    "from sklearn.metrics import precision_score, recall_score, roc_curve\n",
    "from sklearn.metrics import jaccard_score\n",
    "from sklearn.metrics import f1_score\n",
    "from sklearn.metrics import log_loss\n",
    "\n",
    "%matplotlib inline"
   ]
  },
  {
   "cell_type": "code",
   "execution_count": 5,
   "metadata": {},
   "outputs": [
    {
     "name": "stderr",
     "output_type": "stream",
     "text": [
      "F:\\DL_env\\IBM_Project\\env\\lib\\site-packages\\IPython\\core\\interactiveshell.py:3145: DtypeWarning: Columns (0,55) have mixed types.Specify dtype option on import or set low_memory=False.\n",
      "  has_raised = await self.run_ast_nodes(code_ast.body, cell_name,\n"
     ]
    },
    {
     "data": {
      "text/html": [
       "<div>\n",
       "<style scoped>\n",
       "    .dataframe tbody tr th:only-of-type {\n",
       "        vertical-align: middle;\n",
       "    }\n",
       "\n",
       "    .dataframe tbody tr th {\n",
       "        vertical-align: top;\n",
       "    }\n",
       "\n",
       "    .dataframe thead th {\n",
       "        text-align: right;\n",
       "    }\n",
       "</style>\n",
       "<table border=\"1\" class=\"dataframe\">\n",
       "  <thead>\n",
       "    <tr style=\"text-align: right;\">\n",
       "      <th></th>\n",
       "      <th>accident_index</th>\n",
       "      <th>vehicle_reference</th>\n",
       "      <th>vehicle_type</th>\n",
       "      <th>towing_and_articulation</th>\n",
       "      <th>vehicle_manoeuvre</th>\n",
       "      <th>vehicle_location-restricted_lane</th>\n",
       "      <th>junction_location</th>\n",
       "      <th>skidding_and_overturning</th>\n",
       "      <th>hit_object_in_carriageway</th>\n",
       "      <th>vehicle_leaving_carriageway</th>\n",
       "      <th>...</th>\n",
       "      <th>age_band_of_casualty</th>\n",
       "      <th>casualty_severity</th>\n",
       "      <th>pedestrian_location</th>\n",
       "      <th>pedestrian_movement</th>\n",
       "      <th>car_passenger</th>\n",
       "      <th>bus_or_coach_passenger</th>\n",
       "      <th>pedestrian_road_maintenance_worker</th>\n",
       "      <th>casualty_type</th>\n",
       "      <th>casualty_home_area_type</th>\n",
       "      <th>casualty_imd_decile</th>\n",
       "    </tr>\n",
       "  </thead>\n",
       "  <tbody>\n",
       "    <tr>\n",
       "      <th>0</th>\n",
       "      <td>201506E098757</td>\n",
       "      <td>2</td>\n",
       "      <td>9</td>\n",
       "      <td>0</td>\n",
       "      <td>18</td>\n",
       "      <td>0</td>\n",
       "      <td>8</td>\n",
       "      <td>0</td>\n",
       "      <td>0</td>\n",
       "      <td>0</td>\n",
       "      <td>...</td>\n",
       "      <td>NaN</td>\n",
       "      <td>NaN</td>\n",
       "      <td>NaN</td>\n",
       "      <td>NaN</td>\n",
       "      <td>NaN</td>\n",
       "      <td>NaN</td>\n",
       "      <td>NaN</td>\n",
       "      <td>NaN</td>\n",
       "      <td>NaN</td>\n",
       "      <td>NaN</td>\n",
       "    </tr>\n",
       "    <tr>\n",
       "      <th>1</th>\n",
       "      <td>201506E098766</td>\n",
       "      <td>1</td>\n",
       "      <td>9</td>\n",
       "      <td>0</td>\n",
       "      <td>9</td>\n",
       "      <td>0</td>\n",
       "      <td>8</td>\n",
       "      <td>0</td>\n",
       "      <td>0</td>\n",
       "      <td>0</td>\n",
       "      <td>...</td>\n",
       "      <td>NaN</td>\n",
       "      <td>NaN</td>\n",
       "      <td>NaN</td>\n",
       "      <td>NaN</td>\n",
       "      <td>NaN</td>\n",
       "      <td>NaN</td>\n",
       "      <td>NaN</td>\n",
       "      <td>NaN</td>\n",
       "      <td>NaN</td>\n",
       "      <td>NaN</td>\n",
       "    </tr>\n",
       "    <tr>\n",
       "      <th>2</th>\n",
       "      <td>201506E098766</td>\n",
       "      <td>2</td>\n",
       "      <td>9</td>\n",
       "      <td>0</td>\n",
       "      <td>18</td>\n",
       "      <td>0</td>\n",
       "      <td>8</td>\n",
       "      <td>0</td>\n",
       "      <td>0</td>\n",
       "      <td>0</td>\n",
       "      <td>...</td>\n",
       "      <td>8.0</td>\n",
       "      <td>3.0</td>\n",
       "      <td>0.0</td>\n",
       "      <td>0.0</td>\n",
       "      <td>0.0</td>\n",
       "      <td>0.0</td>\n",
       "      <td>0.0</td>\n",
       "      <td>9.0</td>\n",
       "      <td>1.0</td>\n",
       "      <td>3.0</td>\n",
       "    </tr>\n",
       "    <tr>\n",
       "      <th>3</th>\n",
       "      <td>201506E098777</td>\n",
       "      <td>1</td>\n",
       "      <td>20</td>\n",
       "      <td>0</td>\n",
       "      <td>4</td>\n",
       "      <td>0</td>\n",
       "      <td>0</td>\n",
       "      <td>0</td>\n",
       "      <td>0</td>\n",
       "      <td>0</td>\n",
       "      <td>...</td>\n",
       "      <td>6.0</td>\n",
       "      <td>3.0</td>\n",
       "      <td>1.0</td>\n",
       "      <td>1.0</td>\n",
       "      <td>0.0</td>\n",
       "      <td>0.0</td>\n",
       "      <td>0.0</td>\n",
       "      <td>0.0</td>\n",
       "      <td>1.0</td>\n",
       "      <td>1.0</td>\n",
       "    </tr>\n",
       "    <tr>\n",
       "      <th>4</th>\n",
       "      <td>201506E098780</td>\n",
       "      <td>1</td>\n",
       "      <td>9</td>\n",
       "      <td>0</td>\n",
       "      <td>15</td>\n",
       "      <td>0</td>\n",
       "      <td>1</td>\n",
       "      <td>0</td>\n",
       "      <td>0</td>\n",
       "      <td>0</td>\n",
       "      <td>...</td>\n",
       "      <td>NaN</td>\n",
       "      <td>NaN</td>\n",
       "      <td>NaN</td>\n",
       "      <td>NaN</td>\n",
       "      <td>NaN</td>\n",
       "      <td>NaN</td>\n",
       "      <td>NaN</td>\n",
       "      <td>NaN</td>\n",
       "      <td>NaN</td>\n",
       "      <td>NaN</td>\n",
       "    </tr>\n",
       "  </tbody>\n",
       "</table>\n",
       "<p>5 rows × 70 columns</p>\n",
       "</div>"
      ],
      "text/plain": [
       "  accident_index  vehicle_reference  vehicle_type  towing_and_articulation  \\\n",
       "0  201506E098757                  2             9                        0   \n",
       "1  201506E098766                  1             9                        0   \n",
       "2  201506E098766                  2             9                        0   \n",
       "3  201506E098777                  1            20                        0   \n",
       "4  201506E098780                  1             9                        0   \n",
       "\n",
       "   vehicle_manoeuvre  vehicle_location-restricted_lane  junction_location  \\\n",
       "0                 18                                 0                  8   \n",
       "1                  9                                 0                  8   \n",
       "2                 18                                 0                  8   \n",
       "3                  4                                 0                  0   \n",
       "4                 15                                 0                  1   \n",
       "\n",
       "   skidding_and_overturning  hit_object_in_carriageway  \\\n",
       "0                         0                          0   \n",
       "1                         0                          0   \n",
       "2                         0                          0   \n",
       "3                         0                          0   \n",
       "4                         0                          0   \n",
       "\n",
       "   vehicle_leaving_carriageway  ...  age_band_of_casualty  casualty_severity  \\\n",
       "0                            0  ...                   NaN                NaN   \n",
       "1                            0  ...                   NaN                NaN   \n",
       "2                            0  ...                   8.0                3.0   \n",
       "3                            0  ...                   6.0                3.0   \n",
       "4                            0  ...                   NaN                NaN   \n",
       "\n",
       "   pedestrian_location  pedestrian_movement  car_passenger  \\\n",
       "0                  NaN                  NaN            NaN   \n",
       "1                  NaN                  NaN            NaN   \n",
       "2                  0.0                  0.0            0.0   \n",
       "3                  1.0                  1.0            0.0   \n",
       "4                  NaN                  NaN            NaN   \n",
       "\n",
       "   bus_or_coach_passenger  pedestrian_road_maintenance_worker  casualty_type  \\\n",
       "0                     NaN                                 NaN            NaN   \n",
       "1                     NaN                                 NaN            NaN   \n",
       "2                     0.0                                 0.0            9.0   \n",
       "3                     0.0                                 0.0            0.0   \n",
       "4                     NaN                                 NaN            NaN   \n",
       "\n",
       "   casualty_home_area_type  casualty_imd_decile  \n",
       "0                      NaN                  NaN  \n",
       "1                      NaN                  NaN  \n",
       "2                      1.0                  3.0  \n",
       "3                      1.0                  1.0  \n",
       "4                      NaN                  NaN  \n",
       "\n",
       "[5 rows x 70 columns]"
      ]
     },
     "execution_count": 5,
     "metadata": {},
     "output_type": "execute_result"
    }
   ],
   "source": [
    "#cheking the imported raw dataset and getting familiarised with the attributes\n",
    "raw_df = pd.read_csv(\"Kaagle_Upload.csv\")\n",
    "raw_df.head()"
   ]
  },
  {
   "cell_type": "markdown",
   "metadata": {},
   "source": [
    "## Summarize the Data"
   ]
  },
  {
   "cell_type": "code",
   "execution_count": 6,
   "metadata": {},
   "outputs": [
    {
     "data": {
      "text/plain": [
       "Index(['accident_index', 'vehicle_reference', 'vehicle_type',\n",
       "       'towing_and_articulation', 'vehicle_manoeuvre',\n",
       "       'vehicle_location-restricted_lane', 'junction_location',\n",
       "       'skidding_and_overturning', 'hit_object_in_carriageway',\n",
       "       'vehicle_leaving_carriageway', 'hit_object_off_carriageway',\n",
       "       '1st_point_of_impact', 'was_vehicle_left_hand_drive?',\n",
       "       'journey_purpose_of_driver', 'sex_of_driver', 'age_of_driver',\n",
       "       'age_band_of_driver', 'engine_capacity_(cc)', 'propulsion_code',\n",
       "       'age_of_vehicle', 'driver_imd_decile', 'driver_home_area_type',\n",
       "       'vehicle_imd_decile', 'NUmber_of_Casualities_unique_to_accident_index',\n",
       "       'No_of_Vehicles_involved_unique_to_accident_index',\n",
       "       'location_easting_osgr', 'location_northing_osgr', 'longitude',\n",
       "       'latitude', 'police_force', 'accident_severity', 'number_of_vehicles',\n",
       "       'number_of_casualties', 'date', 'day_of_week', 'time',\n",
       "       'local_authority_(district)', 'local_authority_(highway)',\n",
       "       '1st_road_class', '1st_road_number', 'road_type', 'speed_limit',\n",
       "       'junction_detail', 'junction_control', '2nd_road_class',\n",
       "       '2nd_road_number', 'pedestrian_crossing-human_control',\n",
       "       'pedestrian_crossing-physical_facilities', 'light_conditions',\n",
       "       'weather_conditions', 'road_surface_conditions',\n",
       "       'special_conditions_at_site', 'carriageway_hazards',\n",
       "       'urban_or_rural_area', 'did_police_officer_attend_scene_of_accident',\n",
       "       'lsoa_of_accident_location', 'casualty_reference', 'casualty_class',\n",
       "       'sex_of_casualty', 'age_of_casualty', 'age_band_of_casualty',\n",
       "       'casualty_severity', 'pedestrian_location', 'pedestrian_movement',\n",
       "       'car_passenger', 'bus_or_coach_passenger',\n",
       "       'pedestrian_road_maintenance_worker', 'casualty_type',\n",
       "       'casualty_home_area_type', 'casualty_imd_decile'],\n",
       "      dtype='object')"
      ]
     },
     "execution_count": 6,
     "metadata": {},
     "output_type": "execute_result"
    }
   ],
   "source": [
    "raw_df.columns"
   ]
  },
  {
   "cell_type": "code",
   "execution_count": 8,
   "metadata": {},
   "outputs": [
    {
     "data": {
      "text/plain": [
       "(285331, 70)"
      ]
     },
     "execution_count": 8,
     "metadata": {},
     "output_type": "execute_result"
    }
   ],
   "source": [
    "#Dimension of the Dataset\n",
    "raw_df.shape"
   ]
  },
  {
   "cell_type": "code",
   "execution_count": 9,
   "metadata": {},
   "outputs": [
    {
     "data": {
      "text/html": [
       "<div>\n",
       "<style scoped>\n",
       "    .dataframe tbody tr th:only-of-type {\n",
       "        vertical-align: middle;\n",
       "    }\n",
       "\n",
       "    .dataframe tbody tr th {\n",
       "        vertical-align: top;\n",
       "    }\n",
       "\n",
       "    .dataframe thead th {\n",
       "        text-align: right;\n",
       "    }\n",
       "</style>\n",
       "<table border=\"1\" class=\"dataframe\">\n",
       "  <thead>\n",
       "    <tr style=\"text-align: right;\">\n",
       "      <th></th>\n",
       "      <th>vehicle_reference</th>\n",
       "      <th>vehicle_type</th>\n",
       "      <th>towing_and_articulation</th>\n",
       "      <th>vehicle_manoeuvre</th>\n",
       "      <th>vehicle_location-restricted_lane</th>\n",
       "      <th>junction_location</th>\n",
       "      <th>skidding_and_overturning</th>\n",
       "      <th>hit_object_in_carriageway</th>\n",
       "      <th>vehicle_leaving_carriageway</th>\n",
       "      <th>hit_object_off_carriageway</th>\n",
       "      <th>...</th>\n",
       "      <th>age_band_of_casualty</th>\n",
       "      <th>casualty_severity</th>\n",
       "      <th>pedestrian_location</th>\n",
       "      <th>pedestrian_movement</th>\n",
       "      <th>car_passenger</th>\n",
       "      <th>bus_or_coach_passenger</th>\n",
       "      <th>pedestrian_road_maintenance_worker</th>\n",
       "      <th>casualty_type</th>\n",
       "      <th>casualty_home_area_type</th>\n",
       "      <th>casualty_imd_decile</th>\n",
       "    </tr>\n",
       "  </thead>\n",
       "  <tbody>\n",
       "    <tr>\n",
       "      <th>count</th>\n",
       "      <td>285331.000000</td>\n",
       "      <td>285331.000000</td>\n",
       "      <td>285331.000000</td>\n",
       "      <td>285331.000000</td>\n",
       "      <td>285331.000000</td>\n",
       "      <td>285331.000000</td>\n",
       "      <td>285331.000000</td>\n",
       "      <td>285331.000000</td>\n",
       "      <td>285331.000000</td>\n",
       "      <td>285331.000000</td>\n",
       "      <td>...</td>\n",
       "      <td>186072.000000</td>\n",
       "      <td>186072.000000</td>\n",
       "      <td>186072.000000</td>\n",
       "      <td>186072.000000</td>\n",
       "      <td>186072.000000</td>\n",
       "      <td>186072.000000</td>\n",
       "      <td>186072.000000</td>\n",
       "      <td>186072.000000</td>\n",
       "      <td>186072.000000</td>\n",
       "      <td>186072.000000</td>\n",
       "    </tr>\n",
       "    <tr>\n",
       "      <th>mean</th>\n",
       "      <td>1.557030</td>\n",
       "      <td>9.570765</td>\n",
       "      <td>0.026741</td>\n",
       "      <td>12.625323</td>\n",
       "      <td>0.124038</td>\n",
       "      <td>2.700075</td>\n",
       "      <td>0.200041</td>\n",
       "      <td>0.340356</td>\n",
       "      <td>0.377502</td>\n",
       "      <td>0.590244</td>\n",
       "      <td>...</td>\n",
       "      <td>6.245512</td>\n",
       "      <td>2.862462</td>\n",
       "      <td>0.672277</td>\n",
       "      <td>0.481631</td>\n",
       "      <td>0.255992</td>\n",
       "      <td>0.079383</td>\n",
       "      <td>0.060428</td>\n",
       "      <td>7.277414</td>\n",
       "      <td>1.045665</td>\n",
       "      <td>3.848236</td>\n",
       "    </tr>\n",
       "    <tr>\n",
       "      <th>std</th>\n",
       "      <td>0.760106</td>\n",
       "      <td>8.515910</td>\n",
       "      <td>0.289672</td>\n",
       "      <td>6.191873</td>\n",
       "      <td>0.965362</td>\n",
       "      <td>3.270800</td>\n",
       "      <td>0.748732</td>\n",
       "      <td>1.679784</td>\n",
       "      <td>1.393303</td>\n",
       "      <td>2.168011</td>\n",
       "      <td>...</td>\n",
       "      <td>2.386162</td>\n",
       "      <td>0.370414</td>\n",
       "      <td>1.951045</td>\n",
       "      <td>1.663396</td>\n",
       "      <td>0.575932</td>\n",
       "      <td>0.534076</td>\n",
       "      <td>0.345463</td>\n",
       "      <td>7.506004</td>\n",
       "      <td>0.959294</td>\n",
       "      <td>3.491443</td>\n",
       "    </tr>\n",
       "    <tr>\n",
       "      <th>min</th>\n",
       "      <td>1.000000</td>\n",
       "      <td>-1.000000</td>\n",
       "      <td>-1.000000</td>\n",
       "      <td>-1.000000</td>\n",
       "      <td>-1.000000</td>\n",
       "      <td>-1.000000</td>\n",
       "      <td>-1.000000</td>\n",
       "      <td>-1.000000</td>\n",
       "      <td>-1.000000</td>\n",
       "      <td>-1.000000</td>\n",
       "      <td>...</td>\n",
       "      <td>-1.000000</td>\n",
       "      <td>1.000000</td>\n",
       "      <td>-1.000000</td>\n",
       "      <td>-1.000000</td>\n",
       "      <td>-1.000000</td>\n",
       "      <td>-1.000000</td>\n",
       "      <td>-1.000000</td>\n",
       "      <td>0.000000</td>\n",
       "      <td>-1.000000</td>\n",
       "      <td>-1.000000</td>\n",
       "    </tr>\n",
       "    <tr>\n",
       "      <th>25%</th>\n",
       "      <td>1.000000</td>\n",
       "      <td>9.000000</td>\n",
       "      <td>0.000000</td>\n",
       "      <td>7.000000</td>\n",
       "      <td>0.000000</td>\n",
       "      <td>0.000000</td>\n",
       "      <td>0.000000</td>\n",
       "      <td>0.000000</td>\n",
       "      <td>0.000000</td>\n",
       "      <td>0.000000</td>\n",
       "      <td>...</td>\n",
       "      <td>5.000000</td>\n",
       "      <td>3.000000</td>\n",
       "      <td>0.000000</td>\n",
       "      <td>0.000000</td>\n",
       "      <td>0.000000</td>\n",
       "      <td>0.000000</td>\n",
       "      <td>0.000000</td>\n",
       "      <td>3.000000</td>\n",
       "      <td>1.000000</td>\n",
       "      <td>1.000000</td>\n",
       "    </tr>\n",
       "    <tr>\n",
       "      <th>50%</th>\n",
       "      <td>1.000000</td>\n",
       "      <td>9.000000</td>\n",
       "      <td>0.000000</td>\n",
       "      <td>17.000000</td>\n",
       "      <td>0.000000</td>\n",
       "      <td>1.000000</td>\n",
       "      <td>0.000000</td>\n",
       "      <td>0.000000</td>\n",
       "      <td>0.000000</td>\n",
       "      <td>0.000000</td>\n",
       "      <td>...</td>\n",
       "      <td>6.000000</td>\n",
       "      <td>3.000000</td>\n",
       "      <td>0.000000</td>\n",
       "      <td>0.000000</td>\n",
       "      <td>0.000000</td>\n",
       "      <td>0.000000</td>\n",
       "      <td>0.000000</td>\n",
       "      <td>9.000000</td>\n",
       "      <td>1.000000</td>\n",
       "      <td>4.000000</td>\n",
       "    </tr>\n",
       "    <tr>\n",
       "      <th>75%</th>\n",
       "      <td>2.000000</td>\n",
       "      <td>9.000000</td>\n",
       "      <td>0.000000</td>\n",
       "      <td>18.000000</td>\n",
       "      <td>0.000000</td>\n",
       "      <td>6.000000</td>\n",
       "      <td>0.000000</td>\n",
       "      <td>0.000000</td>\n",
       "      <td>0.000000</td>\n",
       "      <td>0.000000</td>\n",
       "      <td>...</td>\n",
       "      <td>8.000000</td>\n",
       "      <td>3.000000</td>\n",
       "      <td>0.000000</td>\n",
       "      <td>0.000000</td>\n",
       "      <td>0.000000</td>\n",
       "      <td>0.000000</td>\n",
       "      <td>0.000000</td>\n",
       "      <td>9.000000</td>\n",
       "      <td>1.000000</td>\n",
       "      <td>7.000000</td>\n",
       "    </tr>\n",
       "    <tr>\n",
       "      <th>max</th>\n",
       "      <td>37.000000</td>\n",
       "      <td>98.000000</td>\n",
       "      <td>5.000000</td>\n",
       "      <td>18.000000</td>\n",
       "      <td>9.000000</td>\n",
       "      <td>8.000000</td>\n",
       "      <td>5.000000</td>\n",
       "      <td>12.000000</td>\n",
       "      <td>8.000000</td>\n",
       "      <td>11.000000</td>\n",
       "      <td>...</td>\n",
       "      <td>11.000000</td>\n",
       "      <td>3.000000</td>\n",
       "      <td>10.000000</td>\n",
       "      <td>9.000000</td>\n",
       "      <td>2.000000</td>\n",
       "      <td>4.000000</td>\n",
       "      <td>2.000000</td>\n",
       "      <td>98.000000</td>\n",
       "      <td>3.000000</td>\n",
       "      <td>10.000000</td>\n",
       "    </tr>\n",
       "  </tbody>\n",
       "</table>\n",
       "<p>8 rows × 65 columns</p>\n",
       "</div>"
      ],
      "text/plain": [
       "       vehicle_reference   vehicle_type  towing_and_articulation  \\\n",
       "count      285331.000000  285331.000000            285331.000000   \n",
       "mean            1.557030       9.570765                 0.026741   \n",
       "std             0.760106       8.515910                 0.289672   \n",
       "min             1.000000      -1.000000                -1.000000   \n",
       "25%             1.000000       9.000000                 0.000000   \n",
       "50%             1.000000       9.000000                 0.000000   \n",
       "75%             2.000000       9.000000                 0.000000   \n",
       "max            37.000000      98.000000                 5.000000   \n",
       "\n",
       "       vehicle_manoeuvre  vehicle_location-restricted_lane  junction_location  \\\n",
       "count      285331.000000                     285331.000000      285331.000000   \n",
       "mean           12.625323                          0.124038           2.700075   \n",
       "std             6.191873                          0.965362           3.270800   \n",
       "min            -1.000000                         -1.000000          -1.000000   \n",
       "25%             7.000000                          0.000000           0.000000   \n",
       "50%            17.000000                          0.000000           1.000000   \n",
       "75%            18.000000                          0.000000           6.000000   \n",
       "max            18.000000                          9.000000           8.000000   \n",
       "\n",
       "       skidding_and_overturning  hit_object_in_carriageway  \\\n",
       "count             285331.000000              285331.000000   \n",
       "mean                   0.200041                   0.340356   \n",
       "std                    0.748732                   1.679784   \n",
       "min                   -1.000000                  -1.000000   \n",
       "25%                    0.000000                   0.000000   \n",
       "50%                    0.000000                   0.000000   \n",
       "75%                    0.000000                   0.000000   \n",
       "max                    5.000000                  12.000000   \n",
       "\n",
       "       vehicle_leaving_carriageway  hit_object_off_carriageway  ...  \\\n",
       "count                285331.000000               285331.000000  ...   \n",
       "mean                      0.377502                    0.590244  ...   \n",
       "std                       1.393303                    2.168011  ...   \n",
       "min                      -1.000000                   -1.000000  ...   \n",
       "25%                       0.000000                    0.000000  ...   \n",
       "50%                       0.000000                    0.000000  ...   \n",
       "75%                       0.000000                    0.000000  ...   \n",
       "max                       8.000000                   11.000000  ...   \n",
       "\n",
       "       age_band_of_casualty  casualty_severity  pedestrian_location  \\\n",
       "count         186072.000000      186072.000000        186072.000000   \n",
       "mean               6.245512           2.862462             0.672277   \n",
       "std                2.386162           0.370414             1.951045   \n",
       "min               -1.000000           1.000000            -1.000000   \n",
       "25%                5.000000           3.000000             0.000000   \n",
       "50%                6.000000           3.000000             0.000000   \n",
       "75%                8.000000           3.000000             0.000000   \n",
       "max               11.000000           3.000000            10.000000   \n",
       "\n",
       "       pedestrian_movement  car_passenger  bus_or_coach_passenger  \\\n",
       "count        186072.000000  186072.000000           186072.000000   \n",
       "mean              0.481631       0.255992                0.079383   \n",
       "std               1.663396       0.575932                0.534076   \n",
       "min              -1.000000      -1.000000               -1.000000   \n",
       "25%               0.000000       0.000000                0.000000   \n",
       "50%               0.000000       0.000000                0.000000   \n",
       "75%               0.000000       0.000000                0.000000   \n",
       "max               9.000000       2.000000                4.000000   \n",
       "\n",
       "       pedestrian_road_maintenance_worker  casualty_type  \\\n",
       "count                       186072.000000  186072.000000   \n",
       "mean                             0.060428       7.277414   \n",
       "std                              0.345463       7.506004   \n",
       "min                             -1.000000       0.000000   \n",
       "25%                              0.000000       3.000000   \n",
       "50%                              0.000000       9.000000   \n",
       "75%                              0.000000       9.000000   \n",
       "max                              2.000000      98.000000   \n",
       "\n",
       "       casualty_home_area_type  casualty_imd_decile  \n",
       "count            186072.000000        186072.000000  \n",
       "mean                  1.045665             3.848236  \n",
       "std                   0.959294             3.491443  \n",
       "min                  -1.000000            -1.000000  \n",
       "25%                   1.000000             1.000000  \n",
       "50%                   1.000000             4.000000  \n",
       "75%                   1.000000             7.000000  \n",
       "max                   3.000000            10.000000  \n",
       "\n",
       "[8 rows x 65 columns]"
      ]
     },
     "execution_count": 9,
     "metadata": {},
     "output_type": "execute_result"
    }
   ],
   "source": [
    "#Statistical Summary\n",
    "raw_df.describe()"
   ]
  },
  {
   "cell_type": "markdown",
   "metadata": {},
   "source": [
    "#### Predictive value for the context of this project are already given, therefore the attributes with no predictive dataset are dropped."
   ]
  },
  {
   "cell_type": "code",
   "execution_count": 10,
   "metadata": {},
   "outputs": [
    {
     "data": {
      "text/html": [
       "<div>\n",
       "<style scoped>\n",
       "    .dataframe tbody tr th:only-of-type {\n",
       "        vertical-align: middle;\n",
       "    }\n",
       "\n",
       "    .dataframe tbody tr th {\n",
       "        vertical-align: top;\n",
       "    }\n",
       "\n",
       "    .dataframe thead th {\n",
       "        text-align: right;\n",
       "    }\n",
       "</style>\n",
       "<table border=\"1\" class=\"dataframe\">\n",
       "  <thead>\n",
       "    <tr style=\"text-align: right;\">\n",
       "      <th></th>\n",
       "      <th>accident_severity</th>\n",
       "      <th>light_conditions</th>\n",
       "      <th>weather_conditions</th>\n",
       "      <th>road_surface_conditions</th>\n",
       "    </tr>\n",
       "  </thead>\n",
       "  <tbody>\n",
       "    <tr>\n",
       "      <th>0</th>\n",
       "      <td>3</td>\n",
       "      <td>1</td>\n",
       "      <td>1</td>\n",
       "      <td>1</td>\n",
       "    </tr>\n",
       "    <tr>\n",
       "      <th>1</th>\n",
       "      <td>3</td>\n",
       "      <td>1</td>\n",
       "      <td>1</td>\n",
       "      <td>1</td>\n",
       "    </tr>\n",
       "    <tr>\n",
       "      <th>2</th>\n",
       "      <td>3</td>\n",
       "      <td>1</td>\n",
       "      <td>1</td>\n",
       "      <td>1</td>\n",
       "    </tr>\n",
       "    <tr>\n",
       "      <th>3</th>\n",
       "      <td>3</td>\n",
       "      <td>1</td>\n",
       "      <td>1</td>\n",
       "      <td>1</td>\n",
       "    </tr>\n",
       "    <tr>\n",
       "      <th>4</th>\n",
       "      <td>3</td>\n",
       "      <td>1</td>\n",
       "      <td>1</td>\n",
       "      <td>1</td>\n",
       "    </tr>\n",
       "    <tr>\n",
       "      <th>5</th>\n",
       "      <td>3</td>\n",
       "      <td>1</td>\n",
       "      <td>1</td>\n",
       "      <td>1</td>\n",
       "    </tr>\n",
       "    <tr>\n",
       "      <th>6</th>\n",
       "      <td>3</td>\n",
       "      <td>7</td>\n",
       "      <td>1</td>\n",
       "      <td>1</td>\n",
       "    </tr>\n",
       "    <tr>\n",
       "      <th>7</th>\n",
       "      <td>3</td>\n",
       "      <td>7</td>\n",
       "      <td>1</td>\n",
       "      <td>1</td>\n",
       "    </tr>\n",
       "    <tr>\n",
       "      <th>8</th>\n",
       "      <td>3</td>\n",
       "      <td>1</td>\n",
       "      <td>1</td>\n",
       "      <td>1</td>\n",
       "    </tr>\n",
       "    <tr>\n",
       "      <th>9</th>\n",
       "      <td>3</td>\n",
       "      <td>4</td>\n",
       "      <td>1</td>\n",
       "      <td>1</td>\n",
       "    </tr>\n",
       "  </tbody>\n",
       "</table>\n",
       "</div>"
      ],
      "text/plain": [
       "   accident_severity  light_conditions  weather_conditions  \\\n",
       "0                  3                 1                   1   \n",
       "1                  3                 1                   1   \n",
       "2                  3                 1                   1   \n",
       "3                  3                 1                   1   \n",
       "4                  3                 1                   1   \n",
       "5                  3                 1                   1   \n",
       "6                  3                 7                   1   \n",
       "7                  3                 7                   1   \n",
       "8                  3                 1                   1   \n",
       "9                  3                 4                   1   \n",
       "\n",
       "   road_surface_conditions  \n",
       "0                        1  \n",
       "1                        1  \n",
       "2                        1  \n",
       "3                        1  \n",
       "4                        1  \n",
       "5                        1  \n",
       "6                        1  \n",
       "7                        1  \n",
       "8                        1  \n",
       "9                        1  "
      ]
     },
     "execution_count": 10,
     "metadata": {},
     "output_type": "execute_result"
    }
   ],
   "source": [
    "df = raw_df.drop(columns = ['accident_index', 'vehicle_reference', 'vehicle_type',\n",
    "       'towing_and_articulation', 'vehicle_manoeuvre',\n",
    "       'vehicle_location-restricted_lane', 'junction_location',\n",
    "       'skidding_and_overturning', 'hit_object_in_carriageway',\n",
    "       'vehicle_leaving_carriageway', 'hit_object_off_carriageway',\n",
    "       '1st_point_of_impact', 'was_vehicle_left_hand_drive?',\n",
    "       'journey_purpose_of_driver', 'sex_of_driver', 'age_of_driver',\n",
    "       'age_band_of_driver', 'engine_capacity_(cc)', 'propulsion_code',\n",
    "       'age_of_vehicle', 'driver_imd_decile', 'driver_home_area_type',\n",
    "       'vehicle_imd_decile', 'NUmber_of_Casualities_unique_to_accident_index',\n",
    "       'No_of_Vehicles_involved_unique_to_accident_index',\n",
    "       'location_easting_osgr', 'location_northing_osgr', 'longitude',\n",
    "       'latitude', 'police_force', 'number_of_vehicles',\n",
    "       'number_of_casualties', 'date', 'day_of_week', 'time',\n",
    "       'local_authority_(district)', 'local_authority_(highway)',\n",
    "       '1st_road_class', '1st_road_number', 'road_type', 'speed_limit',\n",
    "       'junction_detail', 'junction_control', '2nd_road_class',\n",
    "       '2nd_road_number', 'pedestrian_crossing-human_control',\n",
    "       'pedestrian_crossing-physical_facilities',\n",
    "       'special_conditions_at_site', 'carriageway_hazards',\n",
    "       'urban_or_rural_area', 'did_police_officer_attend_scene_of_accident',\n",
    "       'lsoa_of_accident_location', 'casualty_reference', 'casualty_class',\n",
    "       'sex_of_casualty', 'age_of_casualty', 'age_band_of_casualty',\n",
    "       'casualty_severity', 'pedestrian_location', 'pedestrian_movement',\n",
    "       'car_passenger', 'bus_or_coach_passenger',\n",
    "       'pedestrian_road_maintenance_worker', 'casualty_type',\n",
    "       'casualty_home_area_type', 'casualty_imd_decile'])\n",
    "df.head(10)"
   ]
  },
  {
   "cell_type": "markdown",
   "metadata": {},
   "source": [
    "### Balancing the given data"
   ]
  },
  {
   "cell_type": "code",
   "execution_count": 12,
   "metadata": {},
   "outputs": [
    {
     "data": {
      "text/plain": [
       "3    242477\n",
       "2     39206\n",
       "1      3648\n",
       "Name: accident_severity, dtype: int64"
      ]
     },
     "execution_count": 12,
     "metadata": {},
     "output_type": "execute_result"
    }
   ],
   "source": [
    "df[\"accident_severity\"].value_counts()\n"
   ]
  },
  {
   "cell_type": "code",
   "execution_count": 13,
   "metadata": {},
   "outputs": [
    {
     "data": {
      "text/plain": [
       "1    210534\n",
       "4     55412\n",
       "6     14256\n",
       "7      3699\n",
       "5      1430\n",
       "Name: light_conditions, dtype: int64"
      ]
     },
     "execution_count": 13,
     "metadata": {},
     "output_type": "execute_result"
    }
   ],
   "source": [
    "df[\"light_conditions\"].value_counts()\n"
   ]
  },
  {
   "cell_type": "code",
   "execution_count": 14,
   "metadata": {},
   "outputs": [
    {
     "data": {
      "text/plain": [
       "1    233216\n",
       "2     31375\n",
       "4      4716\n",
       "9      4699\n",
       "5      4627\n",
       "8      3887\n",
       "7      1404\n",
       "3      1050\n",
       "6       357\n",
       "Name: weather_conditions, dtype: int64"
      ]
     },
     "execution_count": 14,
     "metadata": {},
     "output_type": "execute_result"
    }
   ],
   "source": [
    "df[\"weather_conditions\"].value_counts()\n"
   ]
  },
  {
   "cell_type": "code",
   "execution_count": 15,
   "metadata": {},
   "outputs": [
    {
     "data": {
      "text/plain": [
       " 1    207682\n",
       " 2     73161\n",
       " 4      2572\n",
       " 3      1034\n",
       "-1       545\n",
       " 5       337\n",
       "Name: road_surface_conditions, dtype: int64"
      ]
     },
     "execution_count": 15,
     "metadata": {},
     "output_type": "execute_result"
    }
   ],
   "source": [
    "df[\"road_surface_conditions\"].value_counts()"
   ]
  },
  {
   "cell_type": "markdown",
   "metadata": {},
   "source": [
    "#### Checking for the missing values"
   ]
  },
  {
   "cell_type": "code",
   "execution_count": 16,
   "metadata": {},
   "outputs": [
    {
     "name": "stdout",
     "output_type": "stream",
     "text": [
      "accident_severity\n",
      "False    285331\n",
      "Name: accident_severity, dtype: int64\n",
      "\n",
      "light_conditions\n",
      "False    285331\n",
      "Name: light_conditions, dtype: int64\n",
      "\n",
      "weather_conditions\n",
      "False    285331\n",
      "Name: weather_conditions, dtype: int64\n",
      "\n",
      "road_surface_conditions\n",
      "False    285331\n",
      "Name: road_surface_conditions, dtype: int64\n",
      "\n"
     ]
    }
   ],
   "source": [
    "df.replace(\"?\", np.nan, inplace = True)\n",
    "missing_data = df.isnull()\n",
    "for column in missing_data.columns.values.tolist():\n",
    "    print(column)\n",
    "    print (missing_data[column].value_counts())\n",
    "    print(\"\")"
   ]
  },
  {
   "cell_type": "markdown",
   "metadata": {},
   "source": [
    "### From the above line of code and its output we understand the following:\n",
    "Using a for loop in Python, we can quickly figure out the number of missing values in each column. \"True\" represents a missing value, \"False\" means the value is present in the dataset. In the body of the for loop the method \".value_counts()\" counts the number of \"True\" values. </br>\n",
    "\n",
    "From the above we observe that the given dataset does not have any missing values. </br>\n",
    "\n",
    "The severity code 3 is almost 80 times that of severity code 1 and 6 times when compared with severity code 2"
   ]
  },
  {
   "cell_type": "code",
   "execution_count": 17,
   "metadata": {},
   "outputs": [
    {
     "data": {
      "text/plain": [
       "3    3648\n",
       "1    3648\n",
       "Name: accident_severity, dtype: int64"
      ]
     },
     "execution_count": 17,
     "metadata": {},
     "output_type": "execute_result"
    }
   ],
   "source": [
    "# Seperate majority and minority classes\n",
    "df_majority = df[df.accident_severity==3]\n",
    "df_minority = df[df.accident_severity==1]\n",
    "\n",
    "#Downsample majority class\n",
    "df_majority_downsampled = resample(df_majority,\n",
    "                                        replace=False,\n",
    "                                        n_samples=3648,\n",
    "                                        random_state=1234)\n",
    "\n",
    "# Combine minority class with downsampled majority class\n",
    "df_balanced = pd.concat([df_majority_downsampled, df_minority])\n",
    "\n",
    "# Display new class counts\n",
    "df_balanced.accident_severity.value_counts()"
   ]
  },
  {
   "cell_type": "code",
   "execution_count": 18,
   "metadata": {},
   "outputs": [
    {
     "data": {
      "text/html": [
       "<div>\n",
       "<style scoped>\n",
       "    .dataframe tbody tr th:only-of-type {\n",
       "        vertical-align: middle;\n",
       "    }\n",
       "\n",
       "    .dataframe tbody tr th {\n",
       "        vertical-align: top;\n",
       "    }\n",
       "\n",
       "    .dataframe thead th {\n",
       "        text-align: right;\n",
       "    }\n",
       "</style>\n",
       "<table border=\"1\" class=\"dataframe\">\n",
       "  <thead>\n",
       "    <tr style=\"text-align: right;\">\n",
       "      <th></th>\n",
       "      <th>accident_severity</th>\n",
       "      <th>light_conditions</th>\n",
       "      <th>weather_conditions</th>\n",
       "      <th>road_surface_conditions</th>\n",
       "    </tr>\n",
       "  </thead>\n",
       "  <tbody>\n",
       "    <tr>\n",
       "      <th>61211</th>\n",
       "      <td>3</td>\n",
       "      <td>1</td>\n",
       "      <td>1</td>\n",
       "      <td>1</td>\n",
       "    </tr>\n",
       "    <tr>\n",
       "      <th>238619</th>\n",
       "      <td>3</td>\n",
       "      <td>1</td>\n",
       "      <td>2</td>\n",
       "      <td>2</td>\n",
       "    </tr>\n",
       "    <tr>\n",
       "      <th>104367</th>\n",
       "      <td>3</td>\n",
       "      <td>1</td>\n",
       "      <td>1</td>\n",
       "      <td>1</td>\n",
       "    </tr>\n",
       "    <tr>\n",
       "      <th>245665</th>\n",
       "      <td>3</td>\n",
       "      <td>1</td>\n",
       "      <td>1</td>\n",
       "      <td>1</td>\n",
       "    </tr>\n",
       "    <tr>\n",
       "      <th>66952</th>\n",
       "      <td>3</td>\n",
       "      <td>1</td>\n",
       "      <td>1</td>\n",
       "      <td>1</td>\n",
       "    </tr>\n",
       "  </tbody>\n",
       "</table>\n",
       "</div>"
      ],
      "text/plain": [
       "        accident_severity  light_conditions  weather_conditions  \\\n",
       "61211                   3                 1                   1   \n",
       "238619                  3                 1                   2   \n",
       "104367                  3                 1                   1   \n",
       "245665                  3                 1                   1   \n",
       "66952                   3                 1                   1   \n",
       "\n",
       "        road_surface_conditions  \n",
       "61211                         1  \n",
       "238619                        2  \n",
       "104367                        1  \n",
       "245665                        1  \n",
       "66952                         1  "
      ]
     },
     "execution_count": 18,
     "metadata": {},
     "output_type": "execute_result"
    }
   ],
   "source": [
    "df_balanced.head()"
   ]
  },
  {
   "cell_type": "markdown",
   "metadata": {},
   "source": [
    "### Data Visualization \n"
   ]
  },
  {
   "cell_type": "markdown",
   "metadata": {},
   "source": [
    "We now have a basic idea about the data. We need to extend that with visualizations.\n",
    "\n",
    "Multivariate plots to better understand the relationships between attributes."
   ]
  },
  {
   "cell_type": "code",
   "execution_count": 20,
   "metadata": {},
   "outputs": [
    {
     "data": {
      "text/plain": [
       "<seaborn.axisgrid.PairGrid at 0x190ca0e6760>"
      ]
     },
     "execution_count": 20,
     "metadata": {},
     "output_type": "execute_result"
    },
    {
     "data": {
      "image/png": "[encoded data removed]",
      "text/plain": [
       "<Figure size 720x720 with 20 Axes>"
      ]
     },
     "metadata": {
      "needs_background": "dark"
     },
     "output_type": "display_data"
    }
   ],
   "source": [
    "sns.pairplot(df)"
   ]
  },
  {
   "cell_type": "markdown",
   "metadata": {},
   "source": [
    "## MODELLING\n",
    "\n",
    "In this phase, various algorithms and methods can be selected and applied to build the model including supervised machine learning techniques. I have selected decision tree, KNN , Linear Regression and .  At this phase, stepping back to the data preparation phase was often required."
   ]
  },
  {
   "cell_type": "markdown",
   "metadata": {},
   "source": [
    "Methodology \n",
    "Our data is now ready to be fed into machine learning models.\n",
    "\n",
    "We will use the following models:\n",
    "\n",
    "K-Nearest Neighbor (KNN)\n",
    "KNN will help us predict the severity code of an outcome by finding the most similar to data point within k distance.\n",
    "\n",
    "Decision Tree\n",
    "A decision tree model gives us a layout of all possible outcomes so we can fully analyze the consequences of a decision. It context, the decision tree observes all possible outcomes of different weather conditions.\n",
    "\n",
    "Logistic Regression\n",
    "Because our dataset only provides us with three severity code outcomes, our model will only predict one of those two classes. This makes our data binary, which is perfect to use with logistic regression."
   ]
  },
  {
   "cell_type": "code",
   "execution_count": 21,
   "metadata": {},
   "outputs": [
    {
     "data": {
      "text/plain": [
       "array([[1, 1, 1],\n",
       "       [1, 2, 2],\n",
       "       [1, 1, 1],\n",
       "       [1, 1, 1],\n",
       "       [1, 1, 1]], dtype=int64)"
      ]
     },
     "execution_count": 21,
     "metadata": {},
     "output_type": "execute_result"
    }
   ],
   "source": [
    "X = np.asarray(df_balanced[['light_conditions', 'weather_conditions', 'road_surface_conditions']])\n",
    "X[0:5]"
   ]
  },
  {
   "cell_type": "code",
   "execution_count": 22,
   "metadata": {},
   "outputs": [
    {
     "data": {
      "text/plain": [
       "array([3, 3, 3, 3, 3], dtype=int64)"
      ]
     },
     "execution_count": 22,
     "metadata": {},
     "output_type": "execute_result"
    }
   ],
   "source": [
    "y = np.asarray(df_balanced['accident_severity'])\n",
    "y [0:5]"
   ]
  },
  {
   "cell_type": "code",
   "execution_count": 23,
   "metadata": {},
   "outputs": [
    {
     "data": {
      "text/plain": [
       "array([[-0.64312226, -0.33631746, -0.55664741],\n",
       "       [-0.64312226,  0.32974448,  1.24998048],\n",
       "       [-0.64312226, -0.33631746, -0.55664741],\n",
       "       [-0.64312226, -0.33631746, -0.55664741],\n",
       "       [-0.64312226, -0.33631746, -0.55664741]])"
      ]
     },
     "execution_count": 23,
     "metadata": {},
     "output_type": "execute_result"
    }
   ],
   "source": [
    "X = preprocessing.StandardScaler().fit(X).transform(X)\n",
    "X[0:5]"
   ]
  },
  {
   "cell_type": "code",
   "execution_count": 24,
   "metadata": {},
   "outputs": [
    {
     "name": "stdout",
     "output_type": "stream",
     "text": [
      "Train set: (5107, 3) (5107,)\n",
      "Test set: (2189, 3) (2189,)\n"
     ]
    }
   ],
   "source": [
    "X_train, X_test, y_train, y_test = train_test_split(X, y, test_size=0.3, random_state=4)\n",
    "print ('Train set:', X_train.shape,  y_train.shape)\n",
    "print ('Test set:', X_test.shape,  y_test.shape)"
   ]
  },
  {
   "cell_type": "code",
   "execution_count": 25,
   "metadata": {},
   "outputs": [
    {
     "data": {
      "text/plain": [
       "array([3, 3, 3, 1, 3], dtype=int64)"
      ]
     },
     "execution_count": 25,
     "metadata": {},
     "output_type": "execute_result"
    }
   ],
   "source": [
    "k = 25\n",
    "neigh = KNeighborsClassifier(n_neighbors = k).fit(X_train,y_train)\n",
    "neigh\n",
    "\n",
    "Kyhat = neigh.predict(X_test)\n",
    "Kyhat[0:5]"
   ]
  },
  {
   "cell_type": "markdown",
   "metadata": {},
   "source": [
    "## Model Building"
   ]
  },
  {
   "cell_type": "code",
   "execution_count": 28,
   "metadata": {},
   "outputs": [
    {
     "name": "stdout",
     "output_type": "stream",
     "text": [
      "DecisionTreeClassifier(criterion='entropy', max_depth=7)\n"
     ]
    },
    {
     "data": {
      "text/plain": [
       "LogisticRegression(C=6, solver='liblinear')"
      ]
     },
     "execution_count": 28,
     "metadata": {},
     "output_type": "execute_result"
    }
   ],
   "source": [
    "#Decision Tree\n",
    "colDataTree = DecisionTreeClassifier(criterion=\"entropy\", max_depth = 7)\n",
    "colDataTree\n",
    "print(colDataTree.fit(X_train,y_train))\n",
    "\n",
    "#Logistic Regression\n",
    "LR = LogisticRegression(C=6, solver='liblinear').fit(X_train,y_train)\n",
    "LR\n"
   ]
  },
  {
   "cell_type": "markdown",
   "metadata": {},
   "source": [
    "### Training the model "
   ]
  },
  {
   "cell_type": "code",
   "execution_count": 27,
   "metadata": {},
   "outputs": [
    {
     "name": "stdout",
     "output_type": "stream",
     "text": [
      "[3 3 3 1 3]\n",
      "[1 3 3 3 3]\n"
     ]
    },
    {
     "data": {
      "text/plain": [
       "array([3, 3, 3, ..., 3, 3, 3], dtype=int64)"
      ]
     },
     "execution_count": 27,
     "metadata": {},
     "output_type": "execute_result"
    }
   ],
   "source": [
    "DTyhat = colDataTree.predict(X_test)\n",
    "print (DTyhat[0:5])\n",
    "print (y_test[0:5])\n",
    "LRyhat = LR.predict(X_test)\n",
    "LRyhat"
   ]
  },
  {
   "cell_type": "markdown",
   "metadata": {},
   "source": [
    "## Prediction"
   ]
  },
  {
   "cell_type": "code",
   "execution_count": 30,
   "metadata": {},
   "outputs": [
    {
     "name": "stdout",
     "output_type": "stream",
     "text": [
      "[3 3 3 ... 3 3 3]\n",
      "[[0.43177863 0.56822137]\n",
      " [0.43177863 0.56822137]\n",
      " [0.43177863 0.56822137]\n",
      " ...\n",
      " [0.43177863 0.56822137]\n",
      " [0.43177863 0.56822137]\n",
      " [0.43177863 0.56822137]]\n"
     ]
    }
   ],
   "source": [
    "LRyhat = LR.predict(X_test)\n",
    "print(LRyhat)\n",
    "yhat_prob = LR.predict_proba(X_test)\n",
    "print(yhat_prob)"
   ]
  },
  {
   "cell_type": "markdown",
   "metadata": {},
   "source": [
    "## Evaluation\n"
   ]
  },
  {
   "cell_type": "code",
   "execution_count": 32,
   "metadata": {},
   "outputs": [
    {
     "name": "stdout",
     "output_type": "stream",
     "text": [
      "Jaccard : 0.3271317829457364 \n",
      "               precision    recall  f1-score   support\n",
      "\n",
      "           1       0.70      0.38      0.49      1106\n",
      "           3       0.57      0.83      0.67      1083\n",
      "\n",
      "    accuracy                           0.60      2189\n",
      "   macro avg       0.63      0.61      0.58      2189\n",
      "weighted avg       0.63      0.60      0.58      2189\n",
      "\n"
     ]
    }
   ],
   "source": [
    "model_rf = RandomForestClassifier(n_estimators=10, max_features=3, max_depth =12,criterion='entropy',random_state=0, n_jobs=-1)\n",
    "model_rf.fit(X_train,y_train)\n",
    "yhat_rf = model_rf.predict(X_test)\n",
    "jaccard_rf = jaccard_score(y_test,yhat_rf)\n",
    "c_rf = classification_report(y_test,yhat_rf)\n",
    "prec_rf = precision_score(y_test, yhat_rf)\n",
    "rec_rf = recall_score(y_test, yhat_rf)\n",
    "print('Jaccard :',jaccard_rf,'\\n',\n",
    "     c_rf)\n",
    "\n"
   ]
  },
  {
   "cell_type": "markdown",
   "metadata": {},
   "source": [
    "## Results"
   ]
  },
  {
   "cell_type": "code",
   "execution_count": 42,
   "metadata": {},
   "outputs": [
    {
     "name": "stdout",
     "output_type": "stream",
     "text": [
      "0.28604651162790695\n",
      "0.5530594098058867\n",
      "0.32684824902723736\n",
      "0.3037518037518038\n"
     ]
    },
    {
     "data": {
      "text/html": [
       "<div>\n",
       "<style scoped>\n",
       "    .dataframe tbody tr th:only-of-type {\n",
       "        vertical-align: middle;\n",
       "    }\n",
       "\n",
       "    .dataframe tbody tr th {\n",
       "        vertical-align: top;\n",
       "    }\n",
       "\n",
       "    .dataframe thead th {\n",
       "        text-align: right;\n",
       "    }\n",
       "</style>\n",
       "<table border=\"1\" class=\"dataframe\">\n",
       "  <thead>\n",
       "    <tr style=\"text-align: right;\">\n",
       "      <th></th>\n",
       "      <th>Algorithmn</th>\n",
       "      <th>Jaccard</th>\n",
       "      <th>F1-Score</th>\n",
       "    </tr>\n",
       "  </thead>\n",
       "  <tbody>\n",
       "    <tr>\n",
       "      <th>0</th>\n",
       "      <td>KNN</td>\n",
       "      <td>0.286047</td>\n",
       "      <td>0.553059</td>\n",
       "    </tr>\n",
       "    <tr>\n",
       "      <th>1</th>\n",
       "      <td>Decision Tree</td>\n",
       "      <td>0.326848</td>\n",
       "      <td>0.584531</td>\n",
       "    </tr>\n",
       "    <tr>\n",
       "      <th>2</th>\n",
       "      <td>Logistics Regression</td>\n",
       "      <td>0.303752</td>\n",
       "      <td>0.545313</td>\n",
       "    </tr>\n",
       "    <tr>\n",
       "      <th>3</th>\n",
       "      <td>Random Forest</td>\n",
       "      <td>0.327132</td>\n",
       "      <td>0.678183</td>\n",
       "    </tr>\n",
       "  </tbody>\n",
       "</table>\n",
       "</div>"
      ],
      "text/plain": [
       "             Algorithmn   Jaccard  F1-Score\n",
       "0                   KNN  0.286047  0.553059\n",
       "1         Decision Tree  0.326848  0.584531\n",
       "2  Logistics Regression  0.303752  0.545313\n",
       "3         Random Forest  0.327132  0.678183"
      ]
     },
     "execution_count": 42,
     "metadata": {},
     "output_type": "execute_result"
    }
   ],
   "source": [
    "print(jaccard_score(y_test, Kyhat))\n",
    "print(f1_score(y_test, Kyhat, average='macro'))\n",
    "print(jaccard_score(y_test, DTyhat))\n",
    "print(jaccard_score(y_test, LRyhat))\n",
    "yhat_prob = LR.predict_proba(X_test)\n",
    "result = log_loss(y_test, yhat_prob)\n",
    "\n",
    "df_results = pd.DataFrame({'Algorithmn': ['KNN',\n",
    "                                          'Decision Tree', \n",
    "                                          'Logistics Regression',\n",
    "                                          'Random Forest'],\n",
    "                           'Jaccard': [jaccard_score(y_test, Kyhat),\n",
    "                                       jaccard_score(y_test, DTyhat),\n",
    "                                       jaccard_score(y_test, LRyhat),\n",
    "                                       jaccard_rf],\n",
    "                           'F1-Score': [f1_score(y_test, Kyhat, average=\"macro\"),\n",
    "                                       f1_score(y_test, DTyhat, average=\"macro\"),\n",
    "                                       f1_score(y_test, LRyhat, average=\"macro\"),\n",
    "                                       result]})\n",
    "df_results.head()"
   ]
  },
  {
   "cell_type": "markdown",
   "metadata": {},
   "source": [
    "### With no doubt the Random Forest is the best model, in the same time as the log. res. It improves the accuracy from 0.28 to 0.32 and the f1-score from 0.545 to 0.67.\n",
    "\n",
    "### Random forests consist of multiple single trees each based on a random sample of the training data. \n",
    "\n",
    "### They are typically more accurate than single decision trees.\n",
    "\n",
    "### The above results shows the decision boundary becomes more accurate and stable as more trees are added."
   ]
  },
  {
   "cell_type": "code",
   "execution_count": 43,
   "metadata": {},
   "outputs": [
    {
     "data": {
      "text/html": [
       "<div>\n",
       "<style scoped>\n",
       "    .dataframe tbody tr th:only-of-type {\n",
       "        vertical-align: middle;\n",
       "    }\n",
       "\n",
       "    .dataframe tbody tr th {\n",
       "        vertical-align: top;\n",
       "    }\n",
       "\n",
       "    .dataframe thead th {\n",
       "        text-align: right;\n",
       "    }\n",
       "</style>\n",
       "<table border=\"1\" class=\"dataframe\">\n",
       "  <thead>\n",
       "    <tr style=\"text-align: right;\">\n",
       "      <th></th>\n",
       "      <th>Algorithmn</th>\n",
       "      <th>Jaccard</th>\n",
       "      <th>F1-Score</th>\n",
       "    </tr>\n",
       "  </thead>\n",
       "  <tbody>\n",
       "    <tr>\n",
       "      <th>0</th>\n",
       "      <td>KNN</td>\n",
       "      <td>0.286047</td>\n",
       "      <td>0.553059</td>\n",
       "    </tr>\n",
       "    <tr>\n",
       "      <th>1</th>\n",
       "      <td>Decision Tree</td>\n",
       "      <td>0.326848</td>\n",
       "      <td>0.584531</td>\n",
       "    </tr>\n",
       "    <tr>\n",
       "      <th>2</th>\n",
       "      <td>Logistics Regression</td>\n",
       "      <td>0.303752</td>\n",
       "      <td>0.545313</td>\n",
       "    </tr>\n",
       "    <tr>\n",
       "      <th>3</th>\n",
       "      <td>Random Forest</td>\n",
       "      <td>0.327132</td>\n",
       "      <td>0.678183</td>\n",
       "    </tr>\n",
       "  </tbody>\n",
       "</table>\n",
       "</div>"
      ],
      "text/plain": [
       "             Algorithmn   Jaccard  F1-Score\n",
       "0                   KNN  0.286047  0.553059\n",
       "1         Decision Tree  0.326848  0.584531\n",
       "2  Logistics Regression  0.303752  0.545313\n",
       "3         Random Forest  0.327132  0.678183"
      ]
     },
     "execution_count": 43,
     "metadata": {},
     "output_type": "execute_result"
    }
   ],
   "source": [
    "df_results.head()"
   ]
  },
  {
   "cell_type": "markdown",
   "metadata": {},
   "source": [
    "# Discussion"
   ]
  },
  {
   "cell_type": "markdown",
   "metadata": {},
   "source": [
    "In the beginning of this notebook, we had categorical data that was of type 'object'. This is not a data type that we could have fed through an algorithm, so label encoding was used to created new classes that were of type int8; a numerical data type.\n",
    "\n",
    "After solving that issue we were presented with another - imbalanced data. As mentioned earlier, class 1 was nearly three times larger than class 2. The solution to this was downsampling the majority class with sklearn's resample tool. We downsampled to match the minority class exactly with 58188 values each.\n",
    "\n",
    "Once we analyzed and cleaned the data, it was then fed through three ML models; K-Nearest Neighbor, Decision Tree and Logistic Regression. Although the first two are ideal for this project, logistic regression made the most sense because of its binary nature.\n",
    "\n",
    "Evaluation metrics used to test the accuracy of our models were jaccard index, f-1 score and logloss for logistic regression. Choosing different k, max depth and hyperamater C values helped to improve our accuracy to be the best possible"
   ]
  },
  {
   "cell_type": "code",
   "execution_count": null,
   "metadata": {},
   "outputs": [],
   "source": []
  }
 ],
 "metadata": {
  "kernelspec": {
   "display_name": "Python 3",
   "language": "python",
   "name": "python3"
  },
  "language_info": {
   "codemirror_mode": {
    "name": "ipython",
    "version": 3
   },
   "file_extension": ".py",
   "mimetype": "text/x-python",
   "name": "python",
   "nbconvert_exporter": "python",
   "pygments_lexer": "ipython3",
   "version": "3.8.5"
  }
 },
 "nbformat": 4,
 "nbformat_minor": 4
}
